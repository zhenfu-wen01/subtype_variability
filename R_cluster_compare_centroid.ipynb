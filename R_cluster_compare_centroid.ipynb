{
 "cells": [
  {
   "cell_type": "code",
   "execution_count": null,
   "id": "4b679cd6-28d7-4c3a-aee0-a742c7e6dd71",
   "metadata": {},
   "outputs": [],
   "source": [
    "# require(\"devtools\")\n",
    "# devtools::install_github(\"yiqunchen/KmeansInference\")\n",
    "# install.packages(\"coop\")\n",
    "library(KmeansInference)\n",
    "library(coop)"
   ]
  },
  {
   "cell_type": "code",
   "execution_count": null,
   "id": "1d1ca4dc-6051-4563-b069-3fa1676e1c01",
   "metadata": {},
   "outputs": [],
   "source": [
    "data <- read.csv('./results/R_cluster_anat_2clusters_binary_patient_compare_feat.csv', sep='\\t')\n",
    "X = as.matrix(data[, -c(1)])"
   ]
  },
  {
   "cell_type": "code",
   "execution_count": null,
   "id": "b0f8e88f-1052-47dd-aed5-ef3f109be8dc",
   "metadata": {},
   "outputs": [],
   "source": [
    "# estimator for sigma\n",
    "estimate_MED <- function(X){\n",
    "  for (j in c(1:ncol(X))){\n",
    "    X[,j] <- X[,j]-median(X[,j])}\n",
    "  sigma_hat <- sqrt(median(X^2)/qchisq(1/2,df=1))\n",
    "  return(sigma_hat)\n",
    "}"
   ]
  },
  {
   "cell_type": "code",
   "execution_count": null,
   "id": "c91c8575-dbb6-4872-b16e-69fff9f53f05",
   "metadata": {},
   "outputs": [],
   "source": [
    "eigen_cov_X <- eigen(coop::covar(X))\n",
    "U <- eigen_cov_X$vectors\n",
    "D <- diag(sqrt(1/(eigen_cov_X$values+0.01)))\n",
    "X_iso <- X%*%t(U)%*%D%*%(U)\n",
    "sig_hat_neg <- estimate_MED(X_iso)"
   ]
  },
  {
   "cell_type": "code",
   "execution_count": null,
   "id": "1a532f31-f112-4166-a231-4725ab6ce6fb",
   "metadata": {
    "tags": []
   },
   "outputs": [],
   "source": [
    "kmeans_inference(X_iso, k=2, cluster_1=1, cluster_2=2, iter.max=1000, sig = sig_hat_neg)"
   ]
  },
  {
   "cell_type": "code",
   "execution_count": null,
   "id": "359b8c41-707e-40ae-b761-0b521635c520",
   "metadata": {},
   "outputs": [],
   "source": []
  }
 ],
 "metadata": {
  "kernelspec": {
   "display_name": "Python 3 (ipykernel)",
   "language": "python",
   "name": "python3"
  },
  "language_info": {
   "codemirror_mode": {
    "name": "ipython",
    "version": 3
   },
   "file_extension": ".py",
   "mimetype": "text/x-python",
   "name": "python",
   "nbconvert_exporter": "python",
   "pygments_lexer": "ipython3",
   "version": "3.11.5"
  }
 },
 "nbformat": 4,
 "nbformat_minor": 5
}
