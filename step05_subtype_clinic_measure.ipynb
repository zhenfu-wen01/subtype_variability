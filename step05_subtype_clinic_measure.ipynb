{
 "cells": [
  {
   "cell_type": "code",
   "execution_count": null,
   "id": "bb4888ab-dd5f-4ba9-91e8-3a564560bf76",
   "metadata": {
    "tags": []
   },
   "outputs": [],
   "source": [
    "import numpy as np\n",
    "import pandas as pd\n",
    "import os\n",
    "import scipy.io as scio\n",
    "import pickle\n",
    "\n",
    "import matplotlib.pyplot as plt\n",
    "from sklearn.impute import SimpleImputer\n",
    "from scipy import stats\n",
    "import pingouin as pg\n",
    "import seaborn as sns\n",
    "import base_functions as bf\n",
    "import cluster_base_functions as cbf\n",
    "from statsmodels.stats.multitest import multipletests \n",
    "\n",
    "import warnings\n",
    "import matplotlib\n",
    "matplotlib.rcParams['pdf.fonttype'] = 42\n",
    "matplotlib.rcParams['ps.fonttype'] = 42\n",
    "# plt.rcParams[\"font.family\"] = \"Arial\"\n",
    "warnings.filterwarnings('ignore')\n",
    "warnings.simplefilter('ignore')\n",
    "%matplotlib inline"
   ]
  },
  {
   "cell_type": "code",
   "execution_count": null,
   "id": "76368736-51dd-42c6-8cce-515b195c71e8",
   "metadata": {
    "tags": []
   },
   "outputs": [],
   "source": [
    "care_feat = 2 #set the modality to take care with\n",
    "feat_names = ['anat', 'act', 'conn']\n",
    "D = pickle.load(open('./results/cluster_multi_modality_2clusters_binary_patient.pkl', 'rb'))\n",
    "savefile = f'./results/clinic_effect_patient_{feat_names[care_feat]}_kmeans.pdf'\n",
    "cluster_labels_list = D['cluster_labels_list']\n",
    "cluster_subjects = D['cluster_subjects']\n",
    "cluster_vals_list = D['cluster_vals_list']\n",
    "\n",
    "\n",
    "D = pickle.load(open('./results/combat_cluster_multi_modality_raw_data.pkl', 'rb'))\n",
    "basic_DF = D['basic_DF']"
   ]
  },
  {
   "cell_type": "code",
   "execution_count": null,
   "id": "3764781b-9306-48e9-b783-7d39b795118b",
   "metadata": {
    "tags": []
   },
   "outputs": [],
   "source": [
    "clinic_names = ['CAPSTOT_cur', 'CAPSB_cur', 'CAPSC_cur', 'CAPSD_cur', 'CAPSE_cur',\n",
    "                'ETISR_Total', 'sumETI_Gen_Trauma', 'sumETI_Phy_Abuse', 'sumETI_Emo_abuse', 'sumETI_Sex_Abuse',\n",
    "                'BDI_total', 'ASI', 'STAXI1', 'PANAS_PA', 'PANAS_NA',\n",
    "                'WHOQOL_overall', 'WHOQOL_GeneralHealth', 'WHOQOL_physical', 'WHOQOL_social', 'WHOQOL_environment']\n",
    "\n",
    "cognitive_names = ['Motor_Coordination_Norm','Processing_Speed_Norm','Sustained_Attention_Norm',\n",
    "                   'Controlled_Attention_Norm','Flexibility_Norm','Inhibition_Norm',\n",
    "                   'Working_Memory_Norm','Recall_Memory_Norm','Executive_Function_Norm',\n",
    "                   'Identifying_Emotions_Norm','Emotion_Bias_Norm']\n",
    "biograph_names = ['Age', 'gender', 'edu_years']\n",
    "\n",
    "clinic_cognitive_names = clinic_names + cognitive_names"
   ]
  },
  {
   "cell_type": "code",
   "execution_count": null,
   "id": "783aff8b-bc1f-4e88-a50b-7f9137277f25",
   "metadata": {
    "tags": []
   },
   "outputs": [],
   "source": [
    "all_clinic = bf.get_subject_info(basic_DF, cluster_subjects, clinic_names)\n",
    "all_cognitive = bf.get_subject_info(basic_DF, cluster_subjects, cognitive_names)\n",
    "\n",
    "all_group = bf.get_subject_info(basic_DF, cluster_subjects, ['new_group'])\n",
    "all_biograph = bf.get_subject_info(basic_DF, cluster_subjects, biograph_names)"
   ]
  },
  {
   "cell_type": "code",
   "execution_count": null,
   "id": "0fcf1c48-cae2-4760-a3e5-445306471c89",
   "metadata": {
    "tags": []
   },
   "outputs": [],
   "source": []
  },
  {
   "cell_type": "code",
   "execution_count": null,
   "id": "b28d7923-6fad-417a-bc3d-c8b2332cc58f",
   "metadata": {
    "tags": []
   },
   "outputs": [],
   "source": [
    "# function to calculate Cohen's d for independent samples\n",
    "def cohend(d1, d2):\n",
    "    # calculate the size of samples\n",
    "    n1, n2 = len(d1), len(d2)\n",
    "    # calculate the variance of the samples\n",
    "    s1, s2 = np.var(d1, ddof=1), np.var(d2, ddof=1)\n",
    "    # calculate the pooled standard deviation\n",
    "    s = np.sqrt(((n1 - 1) * s1 + (n2 - 1) * s2) / (n1 + n2 - 2))\n",
    "    # calculate the means of the samples\n",
    "    u1, u2 = np.mean(d1), np.mean(d2)\n",
    "    # calculate the effect size\n",
    "    return (u1 - u2) / s"
   ]
  },
  {
   "cell_type": "code",
   "execution_count": null,
   "id": "5525c7ab-8d84-4e26-9aeb-58a3672ede0c",
   "metadata": {
    "tags": []
   },
   "outputs": [],
   "source": [
    "care_meas = np.concatenate((all_clinic, all_cognitive), axis=1)\n",
    "care_labels = cluster_labels_list[care_feat]\n",
    "# care_labels = cluster_labels\n",
    "boot_num = 1000\n",
    "meas_num = care_meas.shape[1]\n",
    "boot_meas_pvals = np.zeros((meas_num, boot_num))\n",
    "boot_meas_eff = np.zeros((meas_num, boot_num))\n",
    "meas_pvals = np.zeros(meas_num)\n",
    "for ival in range(meas_num):\n",
    "    vals = care_meas[:,ival].copy()\n",
    " \n",
    "    sidx = ~np.isnan(vals)\n",
    "    vals = vals[sidx]\n",
    "    labs = care_labels[sidx]\n",
    "    \n",
    "    a = vals[labs==0]\n",
    "    b = vals[labs==1]\n",
    "    tt = pg.ttest(a, b, correction=False)\n",
    "    meas_pvals[ival] = tt['p-val'][0]\n",
    "    for ibt in range(boot_num):\n",
    "        aa = np.random.choice(a, size=len(a), replace=True)\n",
    "        bb = np.random.choice(b, size=len(b), replace=True)\n",
    "       \n",
    "        # meas_eff[ival,ibt] = tt['cohen-d'][0]\n",
    "        boot_meas_eff[ival,ibt] = cohend(aa,bb)\n",
    "        \n",
    "low = np.percentile(boot_meas_eff, 2.5, axis=1)\n",
    "high = np.percentile(boot_meas_eff, 97.5, axis=1)\n",
    "mval = np.mean(boot_meas_eff, axis=1)"
   ]
  },
  {
   "cell_type": "code",
   "execution_count": null,
   "id": "a40f258f-749c-491c-9a86-b7f666a27aa1",
   "metadata": {
    "tags": []
   },
   "outputs": [],
   "source": [
    "_, pfdr, _, _ = multipletests(meas_pvals, method='fdr_bh')\n",
    "pfdr[pfdr<0.05]"
   ]
  },
  {
   "cell_type": "code",
   "execution_count": null,
   "id": "e262da6a-6d2c-46f3-a181-74c32556e19c",
   "metadata": {
    "tags": []
   },
   "outputs": [],
   "source": [
    "colors = sns.color_palette('deep', as_cmap=True)\n",
    "abbre_names = ['CAPS', 'CAPS_B', 'CAPS_C', 'CAPS_D', 'CAPS_E', 'ETISR', 'ETI_Gen_Trauma', 'ETI_Phy_Abuse', 'ETI_Emo_abuse', 'ETI_Sex_Abuse', \n",
    "               'BDI', 'ASI', 'STAXI', 'PANAS_PA', 'PANAS_NA', 'WHOQOL', 'WHOQOL_GeneralHealth', 'WHOQOL_physical', 'WHOQOL_social', 'WHOQOL_environment',\n",
    "               'Motor_Coordination', 'Processing_Speed', 'Sustained_Attention', 'Controlled_Attention','Flexibility','Inhibition',\n",
    "               'Working_Memory','Recall_Memory','Executive_Function', 'Identifying_Emotions','Emotion_Bias']\n",
    "\n",
    "fig, ax = plt.subplots(figsize=(6,8))\n",
    "y = np.arange(len(mval))[::-1]\n",
    "x = mval\n",
    "xerr = np.stack([mval-low,high-mval], axis=0)\n",
    "\n",
    "ax.errorbar(x[:20], y[:20], xerr=xerr[:,:20], linestyle='None', linewidth=1, marker='.', markersize=10, color=colors[0])\n",
    "ax.errorbar(x[20:], y[20:], xerr=xerr[:,20:], linestyle='None', linewidth=1, marker='.', markersize=10, color=colors[2])\n",
    "ax.set_yticks(y);\n",
    "ax.set_yticklabels(abbre_names);\n",
    "ax.plot([0,0], [-1,32], linestyle='--', color='gray')\n",
    "ax.set_ylim([-1,31])\n",
    "ax.set_xlim([-0.6,0.6])\n",
    "ax.set_xticks(np.arange(-0.6, 0.61,0.2));\n",
    "ax.spines['top'].set_visible(False)\n",
    "ax.spines['right'].set_visible(False)\n",
    "ax.set_xlabel('Cohen\\'s d', fontsize=10)\n",
    "# fig.savefig(savefile, bbox_inches=\"tight\")"
   ]
  },
  {
   "cell_type": "code",
   "execution_count": null,
   "id": "7c2f1b0e-771d-469c-a353-12fdda8a30d8",
   "metadata": {},
   "outputs": [],
   "source": []
  }
 ],
 "metadata": {
  "kernelspec": {
   "display_name": "Python 3 (ipykernel)",
   "language": "python",
   "name": "python3"
  },
  "language_info": {
   "codemirror_mode": {
    "name": "ipython",
    "version": 3
   },
   "file_extension": ".py",
   "mimetype": "text/x-python",
   "name": "python",
   "nbconvert_exporter": "python",
   "pygments_lexer": "ipython3",
   "version": "3.11.5"
  }
 },
 "nbformat": 4,
 "nbformat_minor": 5
}
