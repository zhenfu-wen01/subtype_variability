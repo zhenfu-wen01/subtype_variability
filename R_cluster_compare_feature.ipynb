{
 "cells": [
  {
   "cell_type": "code",
   "execution_count": null,
   "id": "ed28689e-8638-4ce0-a777-8ada8515ca67",
   "metadata": {},
   "outputs": [],
   "source": [
    "# install.packages(\"VALIDICLUST\")\n",
    "# install.packages(\"cluster\")\n",
    "library(cluster)\n",
    "library(VALIDICLUST)"
   ]
  },
  {
   "cell_type": "code",
   "execution_count": null,
   "id": "9f46fdce-246f-4e4a-a4ea-b4c088847b89",
   "metadata": {},
   "outputs": [],
   "source": [
    "data <- read.csv('./results/R_cluster_anat_2clusters_binary_patient_compare_feat.csv', sep='\\t')\n",
    "svfile = './results/R_cluster_anat_2clusters_binary_patient_compare_feat_pvals.csv'"
   ]
  },
  {
   "cell_type": "code",
   "execution_count": null,
   "id": "86d92412-7ab8-4988-9388-6e6b290529c8",
   "metadata": {},
   "outputs": [],
   "source": [
    "X = as.matrix(data[, -c(1)])\n",
    "Y = data[, c(1)]\n",
    "hcl_fun <- function(x){ return(as.factor(kmeans(x, centers = 2)$cluster))}\n",
    "Y = hcl_fun(X) "
   ]
  },
  {
   "cell_type": "code",
   "execution_count": null,
   "id": "ff169674-6696-4947-bff4-a8a2758ce906",
   "metadata": {},
   "outputs": [],
   "source": [
    "feat_num = dim(X)[2]\n",
    "pvals = rep(0, feat_num)\n",
    "for (i in 1:feat_num){\n",
    "    # print(i)\n",
    "    res = test_selective_inference(X, k1=1, k2=2, g=i, ndraws =5000, cl_fun = hcl_fun, cl = Y)\n",
    "    pvals[i] = res$pval}\n",
    "write.csv(pvals, file = svfile)"
   ]
  },
  {
   "cell_type": "code",
   "execution_count": null,
   "id": "8e6f30d8-efb8-4227-8d44-afc501b4e5db",
   "metadata": {},
   "outputs": [],
   "source": []
  }
 ],
 "metadata": {
  "kernelspec": {
   "display_name": "Python 3 (ipykernel)",
   "language": "python",
   "name": "python3"
  },
  "language_info": {
   "codemirror_mode": {
    "name": "ipython",
    "version": 3
   },
   "file_extension": ".py",
   "mimetype": "text/x-python",
   "name": "python",
   "nbconvert_exporter": "python",
   "pygments_lexer": "ipython3",
   "version": "3.11.5"
  }
 },
 "nbformat": 4,
 "nbformat_minor": 5
}
