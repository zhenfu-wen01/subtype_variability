{
 "cells": [
  {
   "cell_type": "code",
   "execution_count": null,
   "id": "6d8f8078-1726-4da0-b51e-8c6afc897da6",
   "metadata": {},
   "outputs": [],
   "source": [
    "import numpy as np\n",
    "import pandas as pd\n",
    "import os\n",
    "import pickle\n",
    "from scipy import stats\n",
    "import base_functions as bf\n",
    "import cluster_base_functions as cbf\n",
    "\n",
    "from sklearn.cluster import KMeans\n",
    "from sklearn.impute import SimpleImputer\n",
    "from sklearn import metrics\n",
    "\n",
    "import warnings\n",
    "import matplotlib.pyplot as plt\n",
    "import matplotlib\n",
    "matplotlib.rcParams['pdf.fonttype'] = 42\n",
    "matplotlib.rcParams['ps.fonttype'] = 42\n",
    "# plt.rcParams[\"font.family\"] = \"Arial\"\n",
    "warnings.filterwarnings('ignore')\n",
    "warnings.simplefilter('ignore')\n",
    "%matplotlib inline"
   ]
  },
  {
   "cell_type": "code",
   "execution_count": null,
   "id": "cab3cff3-15ec-4da4-94a1-528b6c9e4a51",
   "metadata": {},
   "outputs": [],
   "source": [
    "D = pickle.load(open('./median_data/combat_cluster_multi_modality_raw_data.pkl', 'rb'))\n",
    "struc_feat = D['struc_feat']\n",
    "conn_feat = D['conn_feat']\n",
    "act_feat = D['act_feat']\n",
    "\n",
    "basic_DF = D['basic_DF']\n",
    "subjects = D['subjects']\n",
    "\n",
    "struc_feat = stats.zscore(struc_feat, axis=0)\n",
    "act_feat = stats.zscore(act_feat, axis=0)\n",
    "conn_feat = stats.zscore(conn_feat, axis=0)"
   ]
  },
  {
   "cell_type": "code",
   "execution_count": null,
   "id": "e06a2f48-d71b-4d1e-9e90-8eba22c33106",
   "metadata": {},
   "outputs": [],
   "source": [
    "from mlni.hydra_clustering import clustering\n",
    "\n",
    "use_feat = 'anat' # which feature modality is used for clustering, should be 'anat', 'act', or 'conn'\n",
    "\n",
    "dx_labels = bf.get_subject_info(basic_DF, subjects, ['diagnosis_group'])\n",
    "\n",
    "if use_feat=='anat':\n",
    "    hydra_feat = struc_feat.copy()\n",
    "elif use_feat=='act':\n",
    "    hydra_feat = act_feat.copy()\n",
    "elif use_feat=='conn':\n",
    "    hydra_feat = conn_feat.copy()\n",
    "\n",
    "    \n",
    "for care_label in [1,0]:# foucs on clustering patients or healthy\n",
    "\n",
    "    labels = np.zeros_like(dx_labels)\n",
    "    if care_label == 0:\n",
    "        labels[dx_labels==0] = 1#be careful here about the labels\n",
    "        labels[dx_labels==1] = -1\n",
    "        output_dir = f'./MOD_HYDRA_{use_feat}_HC'\n",
    "    elif care_label == 1:\n",
    "        labels[dx_labels==0] = -1#be careful here about the labels\n",
    "        labels[dx_labels==1] = 1\n",
    "        output_dir = f'./MOD_HYDRA_{use_feat}_PT'\n",
    "\n",
    "    session = ['ses-feat']*len(labels)\n",
    "    df = pd.DataFrame({'participant_id':subjects, 'session_id':session, 'diagnosis':labels})\n",
    "\n",
    "    for ifeat in range(hydra_feat.shape[1]):\n",
    "        df[f'ROI{ifeat+1}'] = hydra_feat[:,ifeat]\n",
    "\n",
    "    \n",
    "\n",
    "\n",
    "    os.makedirs(output_dir, exist_ok=True)\n",
    "    feature_tsv = f'{output_dir}/{use_feat}_features.tsv'\n",
    "    df.to_csv(feature_tsv, index=False, sep='\\t')\n",
    "\n",
    "\n",
    "    k_min=2\n",
    "    k_max=5\n",
    "\n",
    "\n",
    "    cv_repetition=100\n",
    "    clustering(feature_tsv, output_dir, k_min, k_max, cv_repetition, n_threads=5, save_models=False, cv_strategy='hold_out')\n"
   ]
  },
  {
   "cell_type": "code",
   "execution_count": null,
   "id": "d39cdae9-a74e-4975-a4c2-8f4f5bde6632",
   "metadata": {},
   "outputs": [],
   "source": []
  }
 ],
 "metadata": {
  "kernelspec": {
   "display_name": "Python 3 (ipykernel)",
   "language": "python",
   "name": "python3"
  },
  "language_info": {
   "codemirror_mode": {
    "name": "ipython",
    "version": 3
   },
   "file_extension": ".py",
   "mimetype": "text/x-python",
   "name": "python",
   "nbconvert_exporter": "python",
   "pygments_lexer": "ipython3",
   "version": "3.11.5"
  }
 },
 "nbformat": 4,
 "nbformat_minor": 5
}
