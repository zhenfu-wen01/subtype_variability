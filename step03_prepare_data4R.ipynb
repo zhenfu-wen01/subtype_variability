{
 "cells": [
  {
   "cell_type": "code",
   "execution_count": null,
   "id": "8f56f2ed-99b0-41ab-bd60-bc615187b8b0",
   "metadata": {},
   "outputs": [],
   "source": [
    "dtfile = './results/cluster_multi_modality_2clusters_binary_patient.pkl'\n",
    "D = pickle.load(open(file, 'rb'))\n",
    "cluster_labels_list = D['cluster_labels_list']\n",
    "cluster_subjects = D['cluster_subjects']\n",
    "cluster_vals_list = D['cluster_vals_list']"
   ]
  },
  {
   "cell_type": "code",
   "execution_count": null,
   "id": "90640d2d-0f6b-47fe-99bc-9b4cb030a686",
   "metadata": {},
   "outputs": [],
   "source": [
    "feat_names = ['anat', 'act', 'conn']\n",
    "for ifeat in range(len(feat_names)):\n",
    "    cluster_labels = cluster_labels_list[ifeat]\n",
    "    cluster_vals = cluster_vals_list[ifeat]\n",
    "    \n",
    "    df = pd.DataFrame({'label': cluster_labels})\n",
    "    for i in range(cluster_vals.shape[1]):\n",
    "        df[f'feat{i}'] = cluster_vals[:,i]\n",
    "    df.to_csv(f'./results/R_cluster_{feat_names[ifeat]}_2clusters_binary_patient_compare_feat.csv', sep='\\t', index=False)"
   ]
  }
 ],
 "metadata": {
  "kernelspec": {
   "display_name": "Python 3 (ipykernel)",
   "language": "python",
   "name": "python3"
  },
  "language_info": {
   "codemirror_mode": {
    "name": "ipython",
    "version": 3
   },
   "file_extension": ".py",
   "mimetype": "text/x-python",
   "name": "python",
   "nbconvert_exporter": "python",
   "pygments_lexer": "ipython3",
   "version": "3.11.5"
  }
 },
 "nbformat": 4,
 "nbformat_minor": 5
}
