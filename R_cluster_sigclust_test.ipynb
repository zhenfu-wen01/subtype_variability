{
 "cells": [
  {
   "cell_type": "code",
   "execution_count": null,
   "id": "923d1a61-e0e3-4cbb-b4a2-32fc8c4a7ca0",
   "metadata": {},
   "outputs": [],
   "source": [
    "# install.packages(\"sigclust\")\n",
    "# install.packages(\"gtools\")\n",
    "library(sigclust)\n",
    "library(gtools)"
   ]
  },
  {
   "cell_type": "code",
   "execution_count": null,
   "id": "8a06d052-ed7c-4cf1-9dbc-1ea067d7dbae",
   "metadata": {},
   "outputs": [],
   "source": [
    "data <- read.csv('./results/R_cluster_anat_2clusters_binary_patient_compare_feat.csv', sep='\\t')\n",
    "data$label <- as.factor(data$label)"
   ]
  },
  {
   "cell_type": "code",
   "execution_count": null,
   "id": "c8e10294-0d8c-4ac7-80a0-e11fbd9be767",
   "metadata": {},
   "outputs": [],
   "source": [
    "roi_num <- dim(data)[2] - 1\n",
    "X <- data[,2:ncol(data)]\n",
    "Y <- data$label"
   ]
  },
  {
   "cell_type": "code",
   "execution_count": null,
   "id": "954707cd-a419-435b-861e-73a4960d5a1a",
   "metadata": {},
   "outputs": [],
   "source": [
    "pvalue <- sigclust(X, nsim=1000, labflag=1, label=Y, icovest=3)"
   ]
  },
  {
   "cell_type": "code",
   "execution_count": null,
   "id": "74b57ba9-ce45-41c7-9216-a5ded8705fbb",
   "metadata": {},
   "outputs": [],
   "source": [
    "pvalue@pvalnorm"
   ]
  },
  {
   "cell_type": "code",
   "execution_count": null,
   "id": "2fc6441e-3113-4b69-b75e-8c6f5ec87d8d",
   "metadata": {},
   "outputs": [],
   "source": [
    "plot(pvalue)"
   ]
  },
  {
   "cell_type": "code",
   "execution_count": null,
   "id": "879332c4-73d8-411b-afe4-02345cee8b84",
   "metadata": {},
   "outputs": [],
   "source": []
  }
 ],
 "metadata": {
  "kernelspec": {
   "display_name": "Python 3 (ipykernel)",
   "language": "python",
   "name": "python3"
  },
  "language_info": {
   "codemirror_mode": {
    "name": "ipython",
    "version": 3
   },
   "file_extension": ".py",
   "mimetype": "text/x-python",
   "name": "python",
   "nbconvert_exporter": "python",
   "pygments_lexer": "ipython3",
   "version": "3.11.5"
  }
 },
 "nbformat": 4,
 "nbformat_minor": 5
}
