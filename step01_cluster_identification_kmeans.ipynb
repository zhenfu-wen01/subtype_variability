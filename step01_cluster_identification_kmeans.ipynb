{
 "cells": [
  {
   "cell_type": "code",
   "execution_count": null,
   "id": "6d8f8078-1726-4da0-b51e-8c6afc897da6",
   "metadata": {},
   "outputs": [],
   "source": [
    "import numpy as np\n",
    "import pandas as pd\n",
    "import os\n",
    "import pickle\n",
    "from scipy import stats\n",
    "import base_functions as bf\n",
    "import cluster_base_functions as cbf\n",
    "\n",
    "from sklearn.cluster import KMeans\n",
    "from sklearn.impute import SimpleImputer\n",
    "from sklearn import metrics\n",
    "\n",
    "import warnings\n",
    "import matplotlib.pyplot as plt\n",
    "import matplotlib\n",
    "matplotlib.rcParams['pdf.fonttype'] = 42\n",
    "matplotlib.rcParams['ps.fonttype'] = 42\n",
    "# plt.rcParams[\"font.family\"] = \"Arial\"\n",
    "warnings.filterwarnings('ignore')\n",
    "warnings.simplefilter('ignore')\n",
    "%matplotlib inline"
   ]
  },
  {
   "cell_type": "code",
   "execution_count": null,
   "id": "cab3cff3-15ec-4da4-94a1-528b6c9e4a51",
   "metadata": {},
   "outputs": [],
   "source": [
    "D = pickle.load(open('./median_data/combat_cluster_multi_modality_raw_data.pkl', 'rb'))\n",
    "struc_feat = D['struc_feat']\n",
    "conn_feat = D['conn_feat']\n",
    "act_feat = D['act_feat']\n",
    "\n",
    "basic_DF = D['basic_DF']\n",
    "subjects = D['subjects']"
   ]
  },
  {
   "cell_type": "code",
   "execution_count": null,
   "id": "622432fe-8b40-4b55-a7fe-5e62a69e6118",
   "metadata": {},
   "outputs": [],
   "source": [
    "## for each feature modality, determine the optimal cluster number\n",
    "\n",
    "care_dx = 1 # 1: only care patients; 0: only care HC; -1: use all participants\n",
    "dx_labels = bf.get_subject_info(basic_DF, subjects, ['diagnosis_group'])\n",
    "cluster_vals_list = [struc_feat, act_feat, conn_feat]\n",
    "cluster_vals_list = [c[dx_labels==care_dx] for c in cluster_vals_list]\n",
    "cluster_subjects = [subjects[i] for i,v in enumerate(dx_labels) if v==care_dx]\n",
    "\n",
    "for ifeat in range(len(cluster_vals_list)):\n",
    "    feat = cluster_vals_list[ifeat].copy()\n",
    "    feat = stats.zscore(feat, axis=0)\n",
    "    feat[np.isnan(feat)] = 0\n",
    "\n",
    "\n",
    "    clust_range = np.arange(2, 10)\n",
    "    CHI_scores = np.zeros((len(clust_range), 2))\n",
    "    for iclust, clust_num in enumerate(clust_range):\n",
    "        cluster = KMeans(n_clusters=clust_num, random_state=1).fit(feat)\n",
    "        CHI_scores[iclust,0] = metrics.silhouette_score(feat, cluster.labels_)\n",
    "        CHI_scores[iclust,1] = metrics.calinski_harabasz_score(feat, cluster.labels_)\n",
    "\n",
    "    feat_names = ['anat', 'act', 'conn']\n",
    "    linewidth = 3\n",
    "    xylab_size = 15\n",
    "    xytick_size = 12\n",
    "    fig, ax1 = plt.subplots(figsize=(6,6))\n",
    "    color = 'tab:red'\n",
    "    ax1.set_xlabel('Cluster number', fontsize=xylab_size)\n",
    "    ax1.set_ylabel('Silhouette score', color=color, fontsize=xylab_size)\n",
    "    ax1.plot(clust_range, CHI_scores[:,0], color=color, linewidth=linewidth, marker='*', markersize=15)\n",
    "    ax1.tick_params(axis='y', labelcolor=color)\n",
    "    ystep = 0.05\n",
    "    if ifeat==2:\n",
    "        ystep = 0.1\n",
    "    ymax = (CHI_scores[:,0].max()//ystep + 1)*ystep\n",
    "    ax1.set_ylim([0,ymax])\n",
    "    ax1.set_yticks(np.arange(0, ymax+0.01, ystep))\n",
    "    ax1.tick_params(axis='both', which='major', labelsize=xytick_size)\n",
    "\n",
    "    ax2 = ax1.twinx()  # instantiate a second axes that shares the same x-axis\n",
    "\n",
    "    color = 'tab:blue'\n",
    "    ax2.set_ylabel('Calinskin-Harabasz score', color=color, fontsize=xylab_size)  # we already handled the x-label with ax1\n",
    "    ax2.plot(clust_range, CHI_scores[:,1], color=color, linewidth=linewidth, linestyle='--', marker='o', markersize=10)\n",
    "    ax2.tick_params(axis='y', labelcolor=color)\n",
    "    ystep = 10\n",
    "    if ifeat==2:\n",
    "        ystep = 50\n",
    "    ymax = (CHI_scores[:,1].max()//ystep + 1)*ystep\n",
    "    ax2.set_ylim([0,ymax])\n",
    "    ax2.set_yticks(np.arange(0, ymax+0.01, ystep))\n",
    "    ax2.tick_params(axis='both', which='major', labelsize=xytick_size)\n",
    "\n",
    "    fig.savefig(f'./results/clusters_Silhouette_scores_{feat_names[ifeat]}.pdf', bbox_inches='tight')"
   ]
  },
  {
   "cell_type": "code",
   "execution_count": null,
   "id": "828ce496-3898-447d-8f49-75df7e76f423",
   "metadata": {},
   "outputs": [],
   "source": [
    "clust_num = 2\n",
    "cluster_labels_list = []\n",
    "for ifeat in range(len(cluster_vals_list)):\n",
    "    feat = cluster_vals_list[ifeat].copy()\n",
    "    feat = stats.zscore(feat, axis=0)\n",
    "    feat[np.isnan(feat)] = 0\n",
    "    cluster = KMeans(n_clusters=clust_num, random_state=1, max_iter=1000).fit(feat)\n",
    "    if ifeat==0:\n",
    "        ref_labels = cluster.labels_\n",
    "        cluster_labels_list.append(ref_labels)\n",
    "    else:\n",
    "        alt_lab = cbf.reorder_clustering_labels(ref_labels, cluster.labels_)\n",
    "        cluster_labels_list.append(alt_lab)\n",
    "        \n",
    "if care_dx==0:\n",
    "    svfile = './results/cluster_multi_modality_2clusters_binary_control.pkl'\n",
    "elif care_dx==1:\n",
    "    svfile = './results/cluster_multi_modality_2clusters_binary_patient.pkl'\n",
    "pickle.dump({'cluster_labels_list':cluster_labels_list, 'cluster_subjects':cluster_subjects, 'cluster_vals_list':cluster_vals_list}, \n",
    "             open(svfile, 'wb'))"
   ]
  },
  {
   "cell_type": "code",
   "execution_count": null,
   "id": "e3872dd3-cdfb-454c-a6bc-27fdbb2351f6",
   "metadata": {
    "tags": []
   },
   "outputs": [],
   "source": [
    "print(metrics.adjusted_rand_score(cluster_labels_list[0], cluster_labels_list[1]))\n",
    "print(metrics.adjusted_rand_score(cluster_labels_list[0], cluster_labels_list[2]))\n",
    "print(metrics.adjusted_rand_score(cluster_labels_list[1], cluster_labels_list[2]))"
   ]
  },
  {
   "cell_type": "code",
   "execution_count": null,
   "id": "da13dc76-3416-4af6-9b0f-08a337d55530",
   "metadata": {},
   "outputs": [],
   "source": []
  }
 ],
 "metadata": {
  "kernelspec": {
   "display_name": "Python 3 (ipykernel)",
   "language": "python",
   "name": "python3"
  },
  "language_info": {
   "codemirror_mode": {
    "name": "ipython",
    "version": 3
   },
   "file_extension": ".py",
   "mimetype": "text/x-python",
   "name": "python",
   "nbconvert_exporter": "python",
   "pygments_lexer": "ipython3",
   "version": "3.11.5"
  }
 },
 "nbformat": 4,
 "nbformat_minor": 5
}
